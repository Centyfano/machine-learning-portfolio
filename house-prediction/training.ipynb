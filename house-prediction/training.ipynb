{
 "cells": [
  {
   "cell_type": "raw",
   "id": "763b385c-a397-4304-b9c7-f7e459c6b0b6",
   "metadata": {
    "tags": []
   },
   "source": [
    "!conda install -c anaconda pathlib -y\n",
    "!pip install tensorflow\n",
    "!pip install matplotlib"
   ]
  },
  {
   "cell_type": "code",
   "execution_count": 61,
   "id": "d3035915-32ae-4a09-9e67-63e45c0e8008",
   "metadata": {},
   "outputs": [],
   "source": [
    "import tensorflow as tf\n",
    "from tensorflow import keras\n",
    "import numpy as np\n",
    "import pandas as pd\n",
    "import matplotlib.pyplot as plt"
   ]
  },
  {
   "cell_type": "code",
   "execution_count": 27,
   "id": "918dc84c-6bf1-4a0b-882a-95df8d11578d",
   "metadata": {},
   "outputs": [
    {
     "data": {
      "text/plain": [
       "(8773, 106)"
      ]
     },
     "execution_count": 27,
     "metadata": {},
     "output_type": "execute_result"
    }
   ],
   "source": [
    "data = pd.read_csv('data/rents_clean.csv')\n",
    "data.shape"
   ]
  },
  {
   "cell_type": "code",
   "execution_count": 33,
   "id": "8d54971d-8c60-4cf8-b606-6fa7e286b8da",
   "metadata": {},
   "outputs": [
    {
     "name": "stdout",
     "output_type": "stream",
     "text": [
      "0    0.075\n",
      "1    0.300\n",
      "2    0.300\n",
      "3    0.180\n",
      "4    0.180\n",
      "Name: price, dtype: float64\n"
     ]
    }
   ],
   "source": [
    "price = data['price'] / data['price'].max()\n",
    "print(price.head())\n",
    "data.head()"
   ]
  },
  {
   "cell_type": "raw",
   "id": "b1708567-3d31-4c73-a434-9a19980e126d",
   "metadata": {},
   "source": [
    "price.head()\n",
    "location = data.location\n",
    "location.unique().size"
   ]
  },
  {
   "cell_type": "raw",
   "id": "80fcca34-1a8d-4ee2-a741-ea80ab852596",
   "metadata": {},
   "source": [
    "from keras.utils.np_utils import to_categorical\n",
    "# one_hot_locations = to_categorical(location.unique())\n",
    "data"
   ]
  },
  {
   "cell_type": "code",
   "execution_count": 146,
   "id": "bde27683-eb56-4714-906f-cd9914075cc6",
   "metadata": {},
   "outputs": [
    {
     "data": {
      "text/html": [
       "<div>\n",
       "<style scoped>\n",
       "    .dataframe tbody tr th:only-of-type {\n",
       "        vertical-align: middle;\n",
       "    }\n",
       "\n",
       "    .dataframe tbody tr th {\n",
       "        vertical-align: top;\n",
       "    }\n",
       "\n",
       "    .dataframe thead th {\n",
       "        text-align: right;\n",
       "    }\n",
       "</style>\n",
       "<table border=\"1\" class=\"dataframe\">\n",
       "  <thead>\n",
       "    <tr style=\"text-align: right;\">\n",
       "      <th></th>\n",
       "      <th>bedrooms</th>\n",
       "      <th>type_Apartment</th>\n",
       "      <th>type_House</th>\n",
       "      <th>type_Townhouse</th>\n",
       "      <th>location_Allsops</th>\n",
       "      <th>location_Baba Dogo</th>\n",
       "      <th>location_Balozi</th>\n",
       "      <th>location_Buruburu</th>\n",
       "      <th>location_Dagoretti</th>\n",
       "      <th>location_Donholm</th>\n",
       "      <th>...</th>\n",
       "      <th>location_Thome</th>\n",
       "      <th>location_Umoja</th>\n",
       "      <th>location_Upper Hill</th>\n",
       "      <th>location_Utawala</th>\n",
       "      <th>location_Uthiru</th>\n",
       "      <th>location_Valley Arcade</th>\n",
       "      <th>location_Waithaka</th>\n",
       "      <th>location_Westlands</th>\n",
       "      <th>location_Windsor</th>\n",
       "      <th>location_Woodley</th>\n",
       "    </tr>\n",
       "  </thead>\n",
       "  <tbody>\n",
       "    <tr>\n",
       "      <th>0</th>\n",
       "      <td>4.0</td>\n",
       "      <td>1</td>\n",
       "      <td>0</td>\n",
       "      <td>0</td>\n",
       "      <td>0</td>\n",
       "      <td>0</td>\n",
       "      <td>0</td>\n",
       "      <td>0</td>\n",
       "      <td>0</td>\n",
       "      <td>0</td>\n",
       "      <td>...</td>\n",
       "      <td>0</td>\n",
       "      <td>0</td>\n",
       "      <td>0</td>\n",
       "      <td>0</td>\n",
       "      <td>0</td>\n",
       "      <td>0</td>\n",
       "      <td>0</td>\n",
       "      <td>0</td>\n",
       "      <td>0</td>\n",
       "      <td>0</td>\n",
       "    </tr>\n",
       "    <tr>\n",
       "      <th>1</th>\n",
       "      <td>4.0</td>\n",
       "      <td>0</td>\n",
       "      <td>1</td>\n",
       "      <td>0</td>\n",
       "      <td>0</td>\n",
       "      <td>0</td>\n",
       "      <td>0</td>\n",
       "      <td>0</td>\n",
       "      <td>0</td>\n",
       "      <td>0</td>\n",
       "      <td>...</td>\n",
       "      <td>0</td>\n",
       "      <td>0</td>\n",
       "      <td>0</td>\n",
       "      <td>0</td>\n",
       "      <td>0</td>\n",
       "      <td>0</td>\n",
       "      <td>0</td>\n",
       "      <td>0</td>\n",
       "      <td>0</td>\n",
       "      <td>0</td>\n",
       "    </tr>\n",
       "    <tr>\n",
       "      <th>2</th>\n",
       "      <td>5.0</td>\n",
       "      <td>0</td>\n",
       "      <td>0</td>\n",
       "      <td>1</td>\n",
       "      <td>0</td>\n",
       "      <td>0</td>\n",
       "      <td>0</td>\n",
       "      <td>0</td>\n",
       "      <td>0</td>\n",
       "      <td>0</td>\n",
       "      <td>...</td>\n",
       "      <td>0</td>\n",
       "      <td>0</td>\n",
       "      <td>0</td>\n",
       "      <td>0</td>\n",
       "      <td>0</td>\n",
       "      <td>0</td>\n",
       "      <td>0</td>\n",
       "      <td>0</td>\n",
       "      <td>0</td>\n",
       "      <td>0</td>\n",
       "    </tr>\n",
       "    <tr>\n",
       "      <th>3</th>\n",
       "      <td>2.0</td>\n",
       "      <td>1</td>\n",
       "      <td>0</td>\n",
       "      <td>0</td>\n",
       "      <td>0</td>\n",
       "      <td>0</td>\n",
       "      <td>0</td>\n",
       "      <td>0</td>\n",
       "      <td>0</td>\n",
       "      <td>0</td>\n",
       "      <td>...</td>\n",
       "      <td>0</td>\n",
       "      <td>0</td>\n",
       "      <td>0</td>\n",
       "      <td>0</td>\n",
       "      <td>0</td>\n",
       "      <td>0</td>\n",
       "      <td>0</td>\n",
       "      <td>0</td>\n",
       "      <td>0</td>\n",
       "      <td>0</td>\n",
       "    </tr>\n",
       "    <tr>\n",
       "      <th>4</th>\n",
       "      <td>4.0</td>\n",
       "      <td>0</td>\n",
       "      <td>0</td>\n",
       "      <td>1</td>\n",
       "      <td>0</td>\n",
       "      <td>0</td>\n",
       "      <td>0</td>\n",
       "      <td>0</td>\n",
       "      <td>0</td>\n",
       "      <td>0</td>\n",
       "      <td>...</td>\n",
       "      <td>0</td>\n",
       "      <td>0</td>\n",
       "      <td>0</td>\n",
       "      <td>0</td>\n",
       "      <td>0</td>\n",
       "      <td>0</td>\n",
       "      <td>0</td>\n",
       "      <td>0</td>\n",
       "      <td>0</td>\n",
       "      <td>0</td>\n",
       "    </tr>\n",
       "  </tbody>\n",
       "</table>\n",
       "<p>5 rows × 105 columns</p>\n",
       "</div>"
      ],
      "text/plain": [
       "   bedrooms  type_Apartment  type_House  type_Townhouse  location_Allsops  \\\n",
       "0       4.0               1           0               0                 0   \n",
       "1       4.0               0           1               0                 0   \n",
       "2       5.0               0           0               1                 0   \n",
       "3       2.0               1           0               0                 0   \n",
       "4       4.0               0           0               1                 0   \n",
       "\n",
       "   location_Baba Dogo  location_Balozi  location_Buruburu  location_Dagoretti  \\\n",
       "0                   0                0                  0                   0   \n",
       "1                   0                0                  0                   0   \n",
       "2                   0                0                  0                   0   \n",
       "3                   0                0                  0                   0   \n",
       "4                   0                0                  0                   0   \n",
       "\n",
       "   location_Donholm  ...  location_Thome  location_Umoja  location_Upper Hill  \\\n",
       "0                 0  ...               0               0                    0   \n",
       "1                 0  ...               0               0                    0   \n",
       "2                 0  ...               0               0                    0   \n",
       "3                 0  ...               0               0                    0   \n",
       "4                 0  ...               0               0                    0   \n",
       "\n",
       "   location_Utawala  location_Uthiru  location_Valley Arcade  \\\n",
       "0                 0                0                       0   \n",
       "1                 0                0                       0   \n",
       "2                 0                0                       0   \n",
       "3                 0                0                       0   \n",
       "4                 0                0                       0   \n",
       "\n",
       "   location_Waithaka  location_Westlands  location_Windsor  location_Woodley  \n",
       "0                  0                   0                 0                 0  \n",
       "1                  0                   0                 0                 0  \n",
       "2                  0                   0                 0                 0  \n",
       "3                  0                   0                 0                 0  \n",
       "4                  0                   0                 0                 0  \n",
       "\n",
       "[5 rows x 105 columns]"
      ]
     },
     "execution_count": 146,
     "metadata": {},
     "output_type": "execute_result"
    }
   ],
   "source": [
    "features = pd.DataFrame(data)\n",
    "features.drop(['price'], axis=1, inplace=True)\n",
    "features.head()"
   ]
  },
  {
   "cell_type": "code",
   "execution_count": 148,
   "id": "e0f86bd7-c844-4e88-a5ad-5967d767a52d",
   "metadata": {},
   "outputs": [
    {
     "data": {
      "text/plain": [
       "(878, 105)"
      ]
     },
     "execution_count": 148,
     "metadata": {},
     "output_type": "execute_result"
    }
   ],
   "source": [
    "X = np.array(features, dtype=float)\n",
    "y = np.array(price, dtype=float)\n",
    "split = int(len(X) * 0.9)\n",
    "\n",
    "# Training set\n",
    "X_train = X[:split]\n",
    "y_train = y[:split]\n",
    "\n",
    "part_x_train = X_train[1000:]\n",
    "part_y_train = y_train[1000:]\n",
    "\n",
    "# Validation Set\n",
    "X_val = X_train[:1000]\n",
    "y_val = y_train[:1000]\n",
    "\n",
    "# Testing set\n",
    "X_test = X[split:]\n",
    "y_test = y[split:]\n",
    "X_test.shape"
   ]
  },
  {
   "cell_type": "code",
   "execution_count": 112,
   "id": "270cc684-2faf-4cbe-9f1a-dd63642172a8",
   "metadata": {},
   "outputs": [
    {
     "data": {
      "text/plain": [
       "105"
      ]
     },
     "execution_count": 112,
     "metadata": {},
     "output_type": "execute_result"
    }
   ],
   "source": [
    "X_train.shape[1]"
   ]
  },
  {
   "cell_type": "markdown",
   "id": "1e0ad877-457c-4b62-b6da-1e99d40f5b3c",
   "metadata": {},
   "source": [
    "## Create model"
   ]
  },
  {
   "cell_type": "markdown",
   "id": "b7656991-da64-473b-9f21-0cf1e3c5e3d5",
   "metadata": {},
   "source": [
    "### Assemble layers into the model"
   ]
  },
  {
   "cell_type": "code",
   "execution_count": 113,
   "id": "e292a86e-4462-40e8-964e-faae7c707840",
   "metadata": {},
   "outputs": [],
   "source": [
    "# Build Layer\n",
    "layers = keras.layers.Dense\n",
    "\n",
    "model = tf.keras.Sequential([\n",
    "    layers(256, activation='relu', input_shape=(part_x_train.shape[1],)),\n",
    "    layers(256, activation='relu'),\n",
    "    layers(1),\n",
    "])"
   ]
  },
  {
   "cell_type": "markdown",
   "id": "a2800586-a609-411f-a8fc-c65a26eabaf3",
   "metadata": {},
   "source": [
    "### Compile model"
   ]
  },
  {
   "cell_type": "code",
   "execution_count": 120,
   "id": "28e0681a-44c2-49c6-8148-3e8eb77378ed",
   "metadata": {},
   "outputs": [],
   "source": [
    "model.compile(loss='mse', optimizer='rmsprop', metrics=['mae'])"
   ]
  },
  {
   "cell_type": "markdown",
   "id": "f9abc072-390c-4c13-939b-0e0e3907f2ca",
   "metadata": {},
   "source": [
    "### Train the model"
   ]
  },
  {
   "cell_type": "code",
   "execution_count": 121,
   "id": "f6845df4-5c80-4e4f-8489-5da8f7d68143",
   "metadata": {},
   "outputs": [
    {
     "name": "stdout",
     "output_type": "stream",
     "text": [
      "28/28 [==============================] - 0s 1ms/step - loss: 0.0131 - mae: 0.0804\n",
      "Model trained\n"
     ]
    }
   ],
   "source": [
    "history = model.fit(part_x_train, part_y_train, epochs=10, batch_size=256, verbose=False, validation_data=(X_val, y_val))\n",
    "result = model.evaluate(X_test, y_test)\n",
    "\n",
    "print(\"Model trained\")"
   ]
  },
  {
   "cell_type": "code",
   "execution_count": 122,
   "id": "4a38ba2d-302b-4ccc-a055-63540ee27b34",
   "metadata": {},
   "outputs": [
    {
     "data": {
      "text/plain": [
       "[0.013139203190803528, 0.08042478561401367]"
      ]
     },
     "execution_count": 122,
     "metadata": {},
     "output_type": "execute_result"
    }
   ],
   "source": [
    "result"
   ]
  },
  {
   "cell_type": "code",
   "execution_count": 123,
   "id": "65037e2c-04e0-48ba-842f-7de4b4ed65a6",
   "metadata": {},
   "outputs": [
    {
     "data": {
      "image/png": "[encoded data removed]",
      "text/plain": [
       "<Figure size 432x288 with 1 Axes>"
      ]
     },
     "metadata": {
      "needs_background": "light"
     },
     "output_type": "display_data"
    }
   ],
   "source": [
    "import matplotlib.pyplot as plt\n",
    "plt.clf()\n",
    "\n",
    "loss = history.history['loss']\n",
    "val_loss = history.history['val_loss']\n",
    "epochs = range(1, len(loss) + 1)\n",
    "\n",
    "plt.plot(epochs, loss, 'bo', label='Training loss')\n",
    "plt.plot(epochs, val_loss, 'b', label='validation loss')\n",
    "plt.title('Training and validation loss')\n",
    "plt.xlabel('Epochs')\n",
    "plt.ylabel('Loss')\n",
    "plt.legend()\n",
    "\n",
    "plt.show()"
   ]
  },
  {
   "cell_type": "code",
   "execution_count": 125,
   "id": "3dc113da-d45a-4704-a628-992537cfa383",
   "metadata": {},
   "outputs": [
    {
     "data": {
      "image/png": "[encoded data removed]",
      "text/plain": [
       "<Figure size 432x288 with 1 Axes>"
      ]
     },
     "metadata": {
      "needs_background": "light"
     },
     "output_type": "display_data"
    }
   ],
   "source": [
    "plt.clf()\n",
    "acc = history.history['mae']\n",
    "\n",
    "# plt.plot(epochs, acc, 'bo', label='mae')\n",
    "plt.plot(epochs, val_acc, 'b', label='Validation Accuracy')\n",
    "plt.xlabel('Epochs')\n",
    "plt.ylabel('Accuracy')\n",
    "plt.legend()\n",
    "plt.show()"
   ]
  },
  {
   "cell_type": "markdown",
   "id": "6d853eed-baec-47e3-b414-889bab6adfe8",
   "metadata": {},
   "source": [
    "#### Evaluate"
   ]
  },
  {
   "cell_type": "code",
   "execution_count": 128,
   "id": "7be05bbb-08b6-4a7f-8617-300c8f3df85a",
   "metadata": {},
   "outputs": [
    {
     "name": "stdout",
     "output_type": "stream",
     "text": [
      "28/28 [==============================] - 0s 2ms/step - loss: 0.0131 - mae: 0.0804\n"
     ]
    },
    {
     "data": {
      "text/plain": [
       "0.08042478561401367"
      ]
     },
     "execution_count": 128,
     "metadata": {},
     "output_type": "execute_result"
    }
   ],
   "source": [
    "test_mse_score, test_mae_score = model.evaluate(X_test, y_test)\n",
    "test_mae_score"
   ]
  },
  {
   "cell_type": "markdown",
   "id": "16eb66e9-7942-40fa-bb00-90b0f0cf10ec",
   "metadata": {},
   "source": [
    "#### Predict"
   ]
  },
  {
   "cell_type": "code",
   "execution_count": 144,
   "id": "0ceaef83-b1a9-4733-85a2-604c87636545",
   "metadata": {},
   "outputs": [
    {
     "data": {
      "text/plain": [
       "(0.35, array([0.40281266], dtype=float32))"
      ]
     },
     "execution_count": 144,
     "metadata": {},
     "output_type": "execute_result"
    }
   ],
   "source": [
    "prediction = model.predict(X_test)\n",
    "num = 11\n",
    "\n",
    "y_test[num], prediction[num]"
   ]
  }
 ],
 "metadata": {
  "kernelspec": {
   "display_name": "Python 3",
   "language": "python",
   "name": "python3"
  },
  "language_info": {
   "codemirror_mode": {
    "name": "ipython",
    "version": 3
   },
   "file_extension": ".py",
   "mimetype": "text/x-python",
   "name": "python",
   "nbconvert_exporter": "python",
   "pygments_lexer": "ipython3",
   "version": "3.9.5"
  }
 },
 "nbformat": 4,
 "nbformat_minor": 5
}
