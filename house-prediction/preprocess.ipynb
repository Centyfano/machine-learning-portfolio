{
 "cells": [
  {
   "cell_type": "code",
   "execution_count": 1,
   "id": "63e31add-bbec-4216-b153-f93293eaddf5",
   "metadata": {},
   "outputs": [
    {
     "name": "stdout",
     "output_type": "stream",
     "text": [
      "version 1.2.4\n"
     ]
    }
   ],
   "source": [
    "import pandas as pd\n",
    "print(\"version {}\".format(pd.__version__))"
   ]
  },
  {
   "cell_type": "markdown",
   "id": "f018b816-8955-4fa2-9b9e-c549cb3aa248",
   "metadata": {},
   "source": [
    "## Load Data"
   ]
  },
  {
   "cell_type": "code",
   "execution_count": 2,
   "id": "7755e110-23df-403d-b940-64840b9b8dcc",
   "metadata": {},
   "outputs": [
    {
     "data": {
      "text/html": [
       "<div>\n",
       "<style scoped>\n",
       "    .dataframe tbody tr th:only-of-type {\n",
       "        vertical-align: middle;\n",
       "    }\n",
       "\n",
       "    .dataframe tbody tr th {\n",
       "        vertical-align: top;\n",
       "    }\n",
       "\n",
       "    .dataframe thead th {\n",
       "        text-align: right;\n",
       "    }\n",
       "</style>\n",
       "<table border=\"1\" class=\"dataframe\">\n",
       "  <thead>\n",
       "    <tr style=\"text-align: right;\">\n",
       "      <th></th>\n",
       "      <th>bedrooms</th>\n",
       "      <th>type</th>\n",
       "      <th>location</th>\n",
       "      <th>price</th>\n",
       "    </tr>\n",
       "  </thead>\n",
       "  <tbody>\n",
       "    <tr>\n",
       "      <th>0</th>\n",
       "      <td>4</td>\n",
       "      <td>Apartment / Flat</td>\n",
       "      <td>Lavington</td>\n",
       "      <td>75000</td>\n",
       "    </tr>\n",
       "    <tr>\n",
       "      <th>1</th>\n",
       "      <td>4</td>\n",
       "      <td>House</td>\n",
       "      <td>Kitisuru</td>\n",
       "      <td>300000</td>\n",
       "    </tr>\n",
       "  </tbody>\n",
       "</table>\n",
       "</div>"
      ],
      "text/plain": [
       "  bedrooms              type   location   price\n",
       "0        4  Apartment / Flat  Lavington   75000\n",
       "1        4             House   Kitisuru  300000"
      ]
     },
     "execution_count": 2,
     "metadata": {},
     "output_type": "execute_result"
    }
   ],
   "source": [
    "rents = pd.read_json(\"data/rents.json\")\n",
    "rents.head(2)\n",
    "# rents.columns"
   ]
  },
  {
   "cell_type": "markdown",
   "id": "816ec815-e686-4586-bbd3-378dda522b22",
   "metadata": {},
   "source": [
    "## Preprocess Data"
   ]
  },
  {
   "cell_type": "markdown",
   "id": "1de2954a-faa1-45c0-bd95-30d5e182c974",
   "metadata": {},
   "source": [
    "### Convert to required types"
   ]
  },
  {
   "cell_type": "code",
   "execution_count": 3,
   "id": "2cdea936-e1e1-43e5-8e8e-e5d28e817e4e",
   "metadata": {},
   "outputs": [
    {
     "name": "stdout",
     "output_type": "stream",
     "text": [
      "Shape:  (101701, 4)\n",
      "<class 'pandas.core.frame.DataFrame'>\n",
      "RangeIndex: 101701 entries, 0 to 101700\n",
      "Data columns (total 4 columns):\n",
      " #   Column    Non-Null Count   Dtype  \n",
      "---  ------    --------------   -----  \n",
      " 0   bedrooms  100699 non-null  float64\n",
      " 1   type      101701 non-null  object \n",
      " 2   location  101701 non-null  object \n",
      " 3   price     101649 non-null  float64\n",
      "dtypes: float64(2), object(2)\n",
      "memory usage: 3.1+ MB\n"
     ]
    }
   ],
   "source": [
    "rents[\"price\"] = pd.to_numeric(rents[\"price\"])\n",
    "rents[\"bedrooms\"] = pd.to_numeric(rents[\"bedrooms\"])\n",
    "\n",
    "print(\"Shape: \",rents.shape) # 101701 Values\n",
    "rents.info()"
   ]
  },
  {
   "cell_type": "markdown",
   "id": "bad7a4df-97ff-4d05-881d-d177e7b543aa",
   "metadata": {},
   "source": [
    "### Drop rows with bad data"
   ]
  },
  {
   "cell_type": "markdown",
   "id": "eee749bd-df15-4164-a6b7-a6a84900615b",
   "metadata": {},
   "source": [
    "#### Null"
   ]
  },
  {
   "cell_type": "code",
   "execution_count": 4,
   "id": "0de1e268-8eb4-4288-8b43-364cbca79ad6",
   "metadata": {},
   "outputs": [
    {
     "data": {
      "text/plain": [
       "(1054, 4)"
      ]
     },
     "execution_count": 4,
     "metadata": {},
     "output_type": "execute_result"
    }
   ],
   "source": [
    "rents[rents.isnull().values].shape # 1054 N/A values"
   ]
  },
  {
   "cell_type": "code",
   "execution_count": 5,
   "id": "228fb2dd-0fe6-4d85-99c1-27199f16be93",
   "metadata": {},
   "outputs": [
    {
     "data": {
      "text/plain": [
       "(100648, 4)"
      ]
     },
     "execution_count": 5,
     "metadata": {},
     "output_type": "execute_result"
    }
   ],
   "source": [
    "rents.dropna(inplace=True)\n",
    "rents.shape # 100648"
   ]
  },
  {
   "cell_type": "markdown",
   "id": "7021120c-7ebe-4440-b845-98121e2888bd",
   "metadata": {},
   "source": [
    "#### Price > 1M"
   ]
  },
  {
   "cell_type": "code",
   "execution_count": 6,
   "id": "5ef2a759-1d91-4ba2-b8cd-43f8a06dbd21",
   "metadata": {},
   "outputs": [
    {
     "data": {
      "text/plain": [
       "(543, 4)"
      ]
     },
     "execution_count": 6,
     "metadata": {},
     "output_type": "execute_result"
    }
   ],
   "source": [
    "rents[rents[\"price\"] > 1000000].shape # 543 records"
   ]
  },
  {
   "cell_type": "code",
   "execution_count": 7,
   "id": "f4321277-3571-479a-91c6-bfb85cf95546",
   "metadata": {},
   "outputs": [
    {
     "data": {
      "text/plain": [
       "(100105, 4)"
      ]
     },
     "execution_count": 7,
     "metadata": {},
     "output_type": "execute_result"
    }
   ],
   "source": [
    "rents.drop(rents[rents['price'] > 1000000].index, inplace=True)\n",
    "rents.shape # 100105"
   ]
  },
  {
   "cell_type": "markdown",
   "id": "b46c9186-b336-473a-97a1-d89603efb1d5",
   "metadata": {},
   "source": [
    "#### Price < 1k"
   ]
  },
  {
   "cell_type": "code",
   "execution_count": 8,
   "id": "e53da82b-c3be-41f9-956a-3622ac05cb45",
   "metadata": {},
   "outputs": [
    {
     "data": {
      "text/plain": [
       "(63, 4)"
      ]
     },
     "execution_count": 8,
     "metadata": {},
     "output_type": "execute_result"
    }
   ],
   "source": [
    "rents[rents[\"price\"] < 1000].shape # 63"
   ]
  },
  {
   "cell_type": "code",
   "execution_count": 9,
   "id": "9e1bcbb8-b7a1-4761-bf30-1ff0e838b62e",
   "metadata": {},
   "outputs": [
    {
     "data": {
      "text/plain": [
       "(100042, 4)"
      ]
     },
     "execution_count": 9,
     "metadata": {},
     "output_type": "execute_result"
    }
   ],
   "source": [
    "rents.drop(rents[rents['price'] < 1000].index, inplace=True)\n",
    "rents.shape # 100042"
   ]
  },
  {
   "cell_type": "markdown",
   "id": "97c22780-3dda-4055-b1fb-169fde576cfd",
   "metadata": {},
   "source": [
    "#### Bedrooms > 10"
   ]
  },
  {
   "cell_type": "code",
   "execution_count": 10,
   "id": "56a2bc8e-19d0-4699-9eb3-32e39e4cc03e",
   "metadata": {},
   "outputs": [
    {
     "data": {
      "text/plain": [
       "(97, 4)"
      ]
     },
     "execution_count": 10,
     "metadata": {},
     "output_type": "execute_result"
    }
   ],
   "source": [
    "rents[rents[\"bedrooms\"] > 10].shape # 97 records"
   ]
  },
  {
   "cell_type": "code",
   "execution_count": 11,
   "id": "9ca9415d-14ef-4eda-ba32-54bd30a34b53",
   "metadata": {},
   "outputs": [
    {
     "data": {
      "text/plain": [
       "(99945, 4)"
      ]
     },
     "execution_count": 11,
     "metadata": {},
     "output_type": "execute_result"
    }
   ],
   "source": [
    "rents.drop(rents[rents['bedrooms'] > 10].index, inplace=True)\n",
    "rents.shape # 99945"
   ]
  },
  {
   "cell_type": "markdown",
   "id": "e074c32e-15dc-440a-8e0a-9811fa296d31",
   "metadata": {},
   "source": [
    "####  Bedrooms < 1"
   ]
  },
  {
   "cell_type": "code",
   "execution_count": 12,
   "id": "0e43e79a-f211-4ec7-8b56-eea0a8037a7c",
   "metadata": {},
   "outputs": [
    {
     "data": {
      "text/plain": [
       "(99945, 4)"
      ]
     },
     "execution_count": 12,
     "metadata": {},
     "output_type": "execute_result"
    }
   ],
   "source": [
    "rents.drop(rents[rents['bedrooms'] < 1].index, inplace=True)\n",
    "rents.shape # 99945"
   ]
  },
  {
   "cell_type": "markdown",
   "id": "d8e1d656-2885-43cf-a1d1-b84154ac1a18",
   "metadata": {},
   "source": [
    "#### Duplicates"
   ]
  },
  {
   "cell_type": "code",
   "execution_count": 13,
   "id": "d39f650c-e1a0-4bf5-9cf1-8963850233b8",
   "metadata": {},
   "outputs": [
    {
     "data": {
      "text/plain": [
       "(8773, 4)"
      ]
     },
     "execution_count": 13,
     "metadata": {},
     "output_type": "execute_result"
    }
   ],
   "source": [
    "rents.drop_duplicates(inplace=True)\n",
    "rents.shape # 8773 clean data"
   ]
  },
  {
   "cell_type": "markdown",
   "id": "1a885b85-bafb-4bf3-80c8-d32db03295e0",
   "metadata": {},
   "source": [
    "### Encoding Data"
   ]
  },
  {
   "cell_type": "markdown",
   "id": "d76f6187-5332-4d64-8cd2-fbd451169fb1",
   "metadata": {},
   "source": [
    "#### Rename to 1-word values"
   ]
  },
  {
   "cell_type": "code",
   "execution_count": 17,
   "id": "e819bd52-f0f3-45c9-9b0a-bfb54bd0b88c",
   "metadata": {},
   "outputs": [
    {
     "data": {
      "text/html": [
       "<div>\n",
       "<style scoped>\n",
       "    .dataframe tbody tr th:only-of-type {\n",
       "        vertical-align: middle;\n",
       "    }\n",
       "\n",
       "    .dataframe tbody tr th {\n",
       "        vertical-align: top;\n",
       "    }\n",
       "\n",
       "    .dataframe thead th {\n",
       "        text-align: right;\n",
       "    }\n",
       "</style>\n",
       "<table border=\"1\" class=\"dataframe\">\n",
       "  <thead>\n",
       "    <tr style=\"text-align: right;\">\n",
       "      <th></th>\n",
       "      <th>bedrooms</th>\n",
       "      <th>type</th>\n",
       "      <th>location</th>\n",
       "      <th>price</th>\n",
       "    </tr>\n",
       "  </thead>\n",
       "  <tbody>\n",
       "    <tr>\n",
       "      <th>0</th>\n",
       "      <td>4.0</td>\n",
       "      <td>Apartment</td>\n",
       "      <td>Lavington</td>\n",
       "      <td>75000.0</td>\n",
       "    </tr>\n",
       "    <tr>\n",
       "      <th>1</th>\n",
       "      <td>4.0</td>\n",
       "      <td>House</td>\n",
       "      <td>Kitisuru</td>\n",
       "      <td>300000.0</td>\n",
       "    </tr>\n",
       "    <tr>\n",
       "      <th>2</th>\n",
       "      <td>5.0</td>\n",
       "      <td>Townhouse</td>\n",
       "      <td>Lavington</td>\n",
       "      <td>300000.0</td>\n",
       "    </tr>\n",
       "    <tr>\n",
       "      <th>3</th>\n",
       "      <td>2.0</td>\n",
       "      <td>Apartment</td>\n",
       "      <td>Lavington</td>\n",
       "      <td>180000.0</td>\n",
       "    </tr>\n",
       "    <tr>\n",
       "      <th>4</th>\n",
       "      <td>4.0</td>\n",
       "      <td>Townhouse</td>\n",
       "      <td>Lavington</td>\n",
       "      <td>180000.0</td>\n",
       "    </tr>\n",
       "    <tr>\n",
       "      <th>...</th>\n",
       "      <td>...</td>\n",
       "      <td>...</td>\n",
       "      <td>...</td>\n",
       "      <td>...</td>\n",
       "    </tr>\n",
       "    <tr>\n",
       "      <th>101633</th>\n",
       "      <td>5.0</td>\n",
       "      <td>House</td>\n",
       "      <td>Runda</td>\n",
       "      <td>535353.0</td>\n",
       "    </tr>\n",
       "    <tr>\n",
       "      <th>101647</th>\n",
       "      <td>3.0</td>\n",
       "      <td>House</td>\n",
       "      <td>Nairobi West</td>\n",
       "      <td>55000.0</td>\n",
       "    </tr>\n",
       "    <tr>\n",
       "      <th>101665</th>\n",
       "      <td>7.0</td>\n",
       "      <td>House</td>\n",
       "      <td>Nyari</td>\n",
       "      <td>200000.0</td>\n",
       "    </tr>\n",
       "    <tr>\n",
       "      <th>101671</th>\n",
       "      <td>2.0</td>\n",
       "      <td>Townhouse</td>\n",
       "      <td>Kyuna</td>\n",
       "      <td>150000.0</td>\n",
       "    </tr>\n",
       "    <tr>\n",
       "      <th>101700</th>\n",
       "      <td>4.0</td>\n",
       "      <td>House</td>\n",
       "      <td>Loresho</td>\n",
       "      <td>65000.0</td>\n",
       "    </tr>\n",
       "  </tbody>\n",
       "</table>\n",
       "<p>8773 rows × 4 columns</p>\n",
       "</div>"
      ],
      "text/plain": [
       "        bedrooms       type      location     price\n",
       "0            4.0  Apartment     Lavington   75000.0\n",
       "1            4.0      House      Kitisuru  300000.0\n",
       "2            5.0  Townhouse     Lavington  300000.0\n",
       "3            2.0  Apartment     Lavington  180000.0\n",
       "4            4.0  Townhouse     Lavington  180000.0\n",
       "...          ...        ...           ...       ...\n",
       "101633       5.0      House         Runda  535353.0\n",
       "101647       3.0      House  Nairobi West   55000.0\n",
       "101665       7.0      House         Nyari  200000.0\n",
       "101671       2.0  Townhouse         Kyuna  150000.0\n",
       "101700       4.0      House       Loresho   65000.0\n",
       "\n",
       "[8773 rows x 4 columns]"
      ]
     },
     "execution_count": 17,
     "metadata": {},
     "output_type": "execute_result"
    }
   ],
   "source": [
    "rents.replace('Apartment / Flat', 'Apartment', inplace=True)\n",
    "rents"
   ]
  },
  {
   "cell_type": "markdown",
   "id": "904f9268-18c8-492c-9cef-51e273831234",
   "metadata": {},
   "source": [
    "#### Output non-encoded to file"
   ]
  },
  {
   "cell_type": "code",
   "execution_count": 32,
   "id": "096630ea-b29c-4375-93e7-970b50344a62",
   "metadata": {},
   "outputs": [
    {
     "data": {
      "text/plain": [
       "array(['Lavington', 'Kitisuru', 'Westlands', 'Langata', 'Runda',\n",
       "       'Spring Valley', 'Peponi', 'Windsor', 'Karen', 'Thigiri',\n",
       "       'Kilimani', 'Kiamumbi', 'Kileleshwa', 'Riverside', 'Ngara',\n",
       "       'Loresho', 'Rosslyn', 'Parklands', 'New Muthaiga', 'Imara Daima',\n",
       "       'Ongata Rongai', 'Nyari', 'Gigiri', 'Lower Kabete',\n",
       "       'Garden Estate', 'Ridgeways', 'Muthaiga', 'Redhill',\n",
       "       'Muthaiga North', 'Lakeview', 'Upper Hill', 'Kiambu Road', 'Kyuna',\n",
       "       'Ngong Rd', 'Hurlingham', 'Muthangari', 'Uthiru', 'Riruta',\n",
       "       'Valley Arcade', 'South C', 'Kahawa sukari', 'Mountain View',\n",
       "       'Kabete', 'Ruaka', 'Ruaraka', 'Dagoretti', 'Syokimau',\n",
       "       'Nairobi CBD', 'South B', 'Thome', 'Milimani', 'Kahawa West',\n",
       "       'Mombasa Rd', 'Kerarapon', 'Nairobi West', 'Mlolongo', 'Hillview',\n",
       "       'Pangani', 'Saika', 'Roysambu', 'Madaraka', 'Katani', 'Embakasi',\n",
       "       'Mbagathi Way', 'Kasarani', 'Ngumo estate', 'Donholm', 'Woodley',\n",
       "       'Hardy', 'Muthurwa', 'Lenana', 'Joska', 'Kenyatta',\n",
       "       'Kahawa Wendani', 'Mirema', 'Buruburu', 'Utawala', 'Kawangware',\n",
       "       'Nyayo', 'Jamhuri', 'Kahawa', 'Baba Dogo', 'Ruai', 'Kibarage',\n",
       "       'Kangemi', 'Waithaka', 'Umoja', 'Ngecha', 'Njiru', 'Greenspan',\n",
       "       'Koma Rock', 'Allsops', 'Mucatha', 'Githurai', 'Makadara',\n",
       "       'Githurai 44', 'Mwiki', 'Balozi', 'Kimathi', 'Pipeline',\n",
       "       'Harambee'], dtype=object)"
      ]
     },
     "execution_count": 32,
     "metadata": {},
     "output_type": "execute_result"
    }
   ],
   "source": [
    "rents['location'].unique()\n",
    "# rents.to_csv(\"data/rents_not_encoded_clean.csv\", index=False)"
   ]
  },
  {
   "cell_type": "markdown",
   "id": "8473532c-1cea-425e-a766-930a0309cb69",
   "metadata": {},
   "source": [
    "#### Hot Encode"
   ]
  },
  {
   "cell_type": "raw",
   "id": "1dc574a1-4900-4d87-b0fd-4e78449951ed",
   "metadata": {},
   "source": [
    "# encoding types\n",
    "one hot\n",
    "level\n",
    "get dummies"
   ]
  },
  {
   "cell_type": "code",
   "execution_count": 33,
   "id": "898e451c-5332-44e9-91db-4fb3c5b836bb",
   "metadata": {},
   "outputs": [
    {
     "data": {
      "text/html": [
       "<div>\n",
       "<style scoped>\n",
       "    .dataframe tbody tr th:only-of-type {\n",
       "        vertical-align: middle;\n",
       "    }\n",
       "\n",
       "    .dataframe tbody tr th {\n",
       "        vertical-align: top;\n",
       "    }\n",
       "\n",
       "    .dataframe thead th {\n",
       "        text-align: right;\n",
       "    }\n",
       "</style>\n",
       "<table border=\"1\" class=\"dataframe\">\n",
       "  <thead>\n",
       "    <tr style=\"text-align: right;\">\n",
       "      <th></th>\n",
       "      <th>location_Allsops</th>\n",
       "      <th>location_Baba Dogo</th>\n",
       "      <th>location_Balozi</th>\n",
       "      <th>location_Buruburu</th>\n",
       "      <th>location_Dagoretti</th>\n",
       "      <th>location_Donholm</th>\n",
       "      <th>location_Embakasi</th>\n",
       "      <th>location_Garden Estate</th>\n",
       "      <th>location_Gigiri</th>\n",
       "      <th>location_Githurai</th>\n",
       "      <th>...</th>\n",
       "      <th>location_Thome</th>\n",
       "      <th>location_Umoja</th>\n",
       "      <th>location_Upper Hill</th>\n",
       "      <th>location_Utawala</th>\n",
       "      <th>location_Uthiru</th>\n",
       "      <th>location_Valley Arcade</th>\n",
       "      <th>location_Waithaka</th>\n",
       "      <th>location_Westlands</th>\n",
       "      <th>location_Windsor</th>\n",
       "      <th>location_Woodley</th>\n",
       "    </tr>\n",
       "  </thead>\n",
       "  <tbody>\n",
       "    <tr>\n",
       "      <th>0</th>\n",
       "      <td>0</td>\n",
       "      <td>0</td>\n",
       "      <td>0</td>\n",
       "      <td>0</td>\n",
       "      <td>0</td>\n",
       "      <td>0</td>\n",
       "      <td>0</td>\n",
       "      <td>0</td>\n",
       "      <td>0</td>\n",
       "      <td>0</td>\n",
       "      <td>...</td>\n",
       "      <td>0</td>\n",
       "      <td>0</td>\n",
       "      <td>0</td>\n",
       "      <td>0</td>\n",
       "      <td>0</td>\n",
       "      <td>0</td>\n",
       "      <td>0</td>\n",
       "      <td>0</td>\n",
       "      <td>0</td>\n",
       "      <td>0</td>\n",
       "    </tr>\n",
       "    <tr>\n",
       "      <th>1</th>\n",
       "      <td>0</td>\n",
       "      <td>0</td>\n",
       "      <td>0</td>\n",
       "      <td>0</td>\n",
       "      <td>0</td>\n",
       "      <td>0</td>\n",
       "      <td>0</td>\n",
       "      <td>0</td>\n",
       "      <td>0</td>\n",
       "      <td>0</td>\n",
       "      <td>...</td>\n",
       "      <td>0</td>\n",
       "      <td>0</td>\n",
       "      <td>0</td>\n",
       "      <td>0</td>\n",
       "      <td>0</td>\n",
       "      <td>0</td>\n",
       "      <td>0</td>\n",
       "      <td>0</td>\n",
       "      <td>0</td>\n",
       "      <td>0</td>\n",
       "    </tr>\n",
       "  </tbody>\n",
       "</table>\n",
       "<p>2 rows × 101 columns</p>\n",
       "</div>"
      ],
      "text/plain": [
       "   location_Allsops  location_Baba Dogo  location_Balozi  location_Buruburu  \\\n",
       "0                 0                   0                0                  0   \n",
       "1                 0                   0                0                  0   \n",
       "\n",
       "   location_Dagoretti  location_Donholm  location_Embakasi  \\\n",
       "0                   0                 0                  0   \n",
       "1                   0                 0                  0   \n",
       "\n",
       "   location_Garden Estate  location_Gigiri  location_Githurai  ...  \\\n",
       "0                       0                0                  0  ...   \n",
       "1                       0                0                  0  ...   \n",
       "\n",
       "   location_Thome  location_Umoja  location_Upper Hill  location_Utawala  \\\n",
       "0               0               0                    0                 0   \n",
       "1               0               0                    0                 0   \n",
       "\n",
       "   location_Uthiru  location_Valley Arcade  location_Waithaka  \\\n",
       "0                0                       0                  0   \n",
       "1                0                       0                  0   \n",
       "\n",
       "   location_Westlands  location_Windsor  location_Woodley  \n",
       "0                   0                 0                 0  \n",
       "1                   0                 0                 0  \n",
       "\n",
       "[2 rows x 101 columns]"
      ]
     },
     "execution_count": 33,
     "metadata": {},
     "output_type": "execute_result"
    }
   ],
   "source": [
    "loc = pd.get_dummies(rents.location, prefix=\"location\")\n",
    "typ = pd.get_dummies(rents.type, prefix=\"type\")\n",
    "loc.head(2)"
   ]
  },
  {
   "cell_type": "markdown",
   "id": "0374394b-9676-42a5-9009-268a37337b9d",
   "metadata": {},
   "source": [
    "#### Concatenate encoded data to df"
   ]
  },
  {
   "cell_type": "code",
   "execution_count": 39,
   "id": "a2669c25-db95-40ef-b701-3fa5e1350339",
   "metadata": {},
   "outputs": [],
   "source": [
    "rents = pd.concat([rents, typ, loc], axis=1)\n",
    "rents.drop(['location', 'type'], axis=1, inplace=True)\n"
   ]
  },
  {
   "cell_type": "code",
   "execution_count": 40,
   "id": "4b3c8b8d-58b3-4911-bb0d-5936319af521",
   "metadata": {},
   "outputs": [
    {
     "data": {
      "text/html": [
       "<div>\n",
       "<style scoped>\n",
       "    .dataframe tbody tr th:only-of-type {\n",
       "        vertical-align: middle;\n",
       "    }\n",
       "\n",
       "    .dataframe tbody tr th {\n",
       "        vertical-align: top;\n",
       "    }\n",
       "\n",
       "    .dataframe thead th {\n",
       "        text-align: right;\n",
       "    }\n",
       "</style>\n",
       "<table border=\"1\" class=\"dataframe\">\n",
       "  <thead>\n",
       "    <tr style=\"text-align: right;\">\n",
       "      <th></th>\n",
       "      <th>bedrooms</th>\n",
       "      <th>price</th>\n",
       "      <th>type_Apartment</th>\n",
       "      <th>type_House</th>\n",
       "      <th>type_Townhouse</th>\n",
       "      <th>location_Allsops</th>\n",
       "      <th>location_Baba Dogo</th>\n",
       "      <th>location_Balozi</th>\n",
       "      <th>location_Buruburu</th>\n",
       "      <th>location_Dagoretti</th>\n",
       "      <th>...</th>\n",
       "      <th>location_Thome</th>\n",
       "      <th>location_Umoja</th>\n",
       "      <th>location_Upper Hill</th>\n",
       "      <th>location_Utawala</th>\n",
       "      <th>location_Uthiru</th>\n",
       "      <th>location_Valley Arcade</th>\n",
       "      <th>location_Waithaka</th>\n",
       "      <th>location_Westlands</th>\n",
       "      <th>location_Windsor</th>\n",
       "      <th>location_Woodley</th>\n",
       "    </tr>\n",
       "  </thead>\n",
       "  <tbody>\n",
       "    <tr>\n",
       "      <th>0</th>\n",
       "      <td>4.0</td>\n",
       "      <td>75000.0</td>\n",
       "      <td>1</td>\n",
       "      <td>0</td>\n",
       "      <td>0</td>\n",
       "      <td>0</td>\n",
       "      <td>0</td>\n",
       "      <td>0</td>\n",
       "      <td>0</td>\n",
       "      <td>0</td>\n",
       "      <td>...</td>\n",
       "      <td>0</td>\n",
       "      <td>0</td>\n",
       "      <td>0</td>\n",
       "      <td>0</td>\n",
       "      <td>0</td>\n",
       "      <td>0</td>\n",
       "      <td>0</td>\n",
       "      <td>0</td>\n",
       "      <td>0</td>\n",
       "      <td>0</td>\n",
       "    </tr>\n",
       "    <tr>\n",
       "      <th>1</th>\n",
       "      <td>4.0</td>\n",
       "      <td>300000.0</td>\n",
       "      <td>0</td>\n",
       "      <td>1</td>\n",
       "      <td>0</td>\n",
       "      <td>0</td>\n",
       "      <td>0</td>\n",
       "      <td>0</td>\n",
       "      <td>0</td>\n",
       "      <td>0</td>\n",
       "      <td>...</td>\n",
       "      <td>0</td>\n",
       "      <td>0</td>\n",
       "      <td>0</td>\n",
       "      <td>0</td>\n",
       "      <td>0</td>\n",
       "      <td>0</td>\n",
       "      <td>0</td>\n",
       "      <td>0</td>\n",
       "      <td>0</td>\n",
       "      <td>0</td>\n",
       "    </tr>\n",
       "  </tbody>\n",
       "</table>\n",
       "<p>2 rows × 106 columns</p>\n",
       "</div>"
      ],
      "text/plain": [
       "   bedrooms     price  type_Apartment  type_House  type_Townhouse  \\\n",
       "0       4.0   75000.0               1           0               0   \n",
       "1       4.0  300000.0               0           1               0   \n",
       "\n",
       "   location_Allsops  location_Baba Dogo  location_Balozi  location_Buruburu  \\\n",
       "0                 0                   0                0                  0   \n",
       "1                 0                   0                0                  0   \n",
       "\n",
       "   location_Dagoretti  ...  location_Thome  location_Umoja  \\\n",
       "0                   0  ...               0               0   \n",
       "1                   0  ...               0               0   \n",
       "\n",
       "   location_Upper Hill  location_Utawala  location_Uthiru  \\\n",
       "0                    0                 0                0   \n",
       "1                    0                 0                0   \n",
       "\n",
       "   location_Valley Arcade  location_Waithaka  location_Westlands  \\\n",
       "0                       0                  0                   0   \n",
       "1                       0                  0                   0   \n",
       "\n",
       "   location_Windsor  location_Woodley  \n",
       "0                 0                 0  \n",
       "1                 0                 0  \n",
       "\n",
       "[2 rows x 106 columns]"
      ]
     },
     "execution_count": 40,
     "metadata": {},
     "output_type": "execute_result"
    }
   ],
   "source": [
    "rents.head(2)"
   ]
  },
  {
   "cell_type": "markdown",
   "id": "33a1527c-41bb-41f9-ba1c-4500254f9728",
   "metadata": {},
   "source": [
    "### Export cleaned data to json,csv"
   ]
  },
  {
   "cell_type": "code",
   "execution_count": 41,
   "id": "847baae4-d8aa-4091-943f-22176cfdccd6",
   "metadata": {},
   "outputs": [],
   "source": [
    "rents.to_json(\"data/rents_clean.json\", orient='records')\n",
    "rents.to_csv(\"data/rents_clean.csv\", index=False)\n",
    "rents.to_excel(\"data/rents_clean.xlsx\", sheet_name=\"rents_clean\", index=False)"
   ]
  },
  {
   "cell_type": "code",
   "execution_count": 42,
   "id": "5acacbeb-55d9-4b98-92d8-08e67ce54f5b",
   "metadata": {},
   "outputs": [
    {
     "data": {
      "text/plain": [
       "bedrooms                       5.0\n",
       "price                     230000.0\n",
       "type_Apartment                 0.0\n",
       "type_House                     1.0\n",
       "type_Townhouse                 0.0\n",
       "                            ...   \n",
       "location_Valley Arcade         0.0\n",
       "location_Waithaka              0.0\n",
       "location_Westlands             0.0\n",
       "location_Windsor               0.0\n",
       "location_Woodley               0.0\n",
       "Name: 11, Length: 106, dtype: float64"
      ]
     },
     "execution_count": 42,
     "metadata": {},
     "output_type": "execute_result"
    }
   ],
   "source": [
    "rents.loc[11]"
   ]
  }
 ],
 "metadata": {
  "kernelspec": {
   "display_name": "Python 3",
   "language": "python",
   "name": "python3"
  },
  "language_info": {
   "codemirror_mode": {
    "name": "ipython",
    "version": 3
   },
   "file_extension": ".py",
   "mimetype": "text/x-python",
   "name": "python",
   "nbconvert_exporter": "python",
   "pygments_lexer": "ipython3",
   "version": "3.9.5"
  }
 },
 "nbformat": 4,
 "nbformat_minor": 5
}
